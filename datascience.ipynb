{
 "cells": [
  {
   "cell_type": "markdown",
   "metadata": {},
   "source": []
  },
  {
   "cell_type": "markdown",
   "metadata": {},
   "source": [
    "# CM3005 Data Science Coursework\n",
    "# Linear Regression Project Starter Notebook"
   ]
  },
  {
   "cell_type": "markdown",
   "metadata": {},
   "source": [
    "# 1. Domain-Specific Area and Objectives\n",
    "\n",
    "## Domain-Specific Area\n",
    "\n",
    "\n",
    "\n",
    "## Objectives\n",
    "1. To build a model that predicts [target variable].\n",
    "2. To identify key trends and insights in the dataset.\n",
    "3. To evaluate the model's performance and discuss its implications."
   ]
  },
  {
   "cell_type": "code",
   "execution_count": 898,
   "metadata": {},
   "outputs": [],
   "source": [
    "# Importing Necessary Libraries\n",
    "import pandas as pd\n",
    "import numpy as np\n",
    "import matplotlib.pyplot as plt\n",
    "import seaborn as sns\n",
    "from sklearn.model_selection import train_test_split\n",
    "from sklearn.linear_model import LinearRegression\n",
    "from sklearn.metrics import mean_squared_error, r2_score"
   ]
  },
  {
   "cell_type": "code",
   "execution_count": 899,
   "metadata": {},
   "outputs": [],
   "source": [
    "# Initialise the year variable to use in all the datasets\n",
    "year = 2019"
   ]
  },
  {
   "cell_type": "markdown",
   "metadata": {},
   "source": [
    "# 2. Datasets Initialization"
   ]
  },
  {
   "cell_type": "markdown",
   "metadata": {},
   "source": [
    "## 2.1 Dataset Description"
   ]
  },
  {
   "cell_type": "markdown",
   "metadata": {},
   "source": [
    "### 2.1.1 Resale Flat Price Dataset Description\n",
    "- Source: [Mention dataset source, e.g., data.gov.sg]\n",
    "- Size: [Number of entries and columns]\n",
    "- Structure: [Types of data, e.g., numeric, categorical]\n",
    "- Relevance: [Why this dataset is suitable for the project]"
   ]
  },
  {
   "cell_type": "code",
   "execution_count": 900,
   "metadata": {},
   "outputs": [
    {
     "name": "stdout",
     "output_type": "stream",
     "text": [
      "     month        town flat_type block        street_name storey_range  \\\n",
      "0  2017-01  ANG MO KIO    2 ROOM   406  ANG MO KIO AVE 10     10 TO 12   \n",
      "1  2017-01  ANG MO KIO    3 ROOM   108   ANG MO KIO AVE 4     01 TO 03   \n",
      "2  2017-01  ANG MO KIO    3 ROOM   602   ANG MO KIO AVE 5     01 TO 03   \n",
      "3  2017-01  ANG MO KIO    3 ROOM   465  ANG MO KIO AVE 10     04 TO 06   \n",
      "4  2017-01  ANG MO KIO    3 ROOM   601   ANG MO KIO AVE 5     01 TO 03   \n",
      "\n",
      "   floor_area_sqm      flat_model  lease_commence_date     remaining_lease  \\\n",
      "0            44.0        Improved                 1979  61 years 04 months   \n",
      "1            67.0  New Generation                 1978  60 years 07 months   \n",
      "2            67.0  New Generation                 1980  62 years 05 months   \n",
      "3            68.0  New Generation                 1980   62 years 01 month   \n",
      "4            67.0  New Generation                 1980  62 years 05 months   \n",
      "\n",
      "   resale_price  \n",
      "0      232000.0  \n",
      "1      250000.0  \n",
      "2      262000.0  \n",
      "3      265000.0  \n",
      "4      265000.0  \n",
      "\n",
      "<class 'pandas.core.frame.DataFrame'>\n",
      "RangeIndex: 196686 entries, 0 to 196685\n",
      "Data columns (total 11 columns):\n",
      " #   Column               Non-Null Count   Dtype  \n",
      "---  ------               --------------   -----  \n",
      " 0   month                196686 non-null  object \n",
      " 1   town                 196686 non-null  object \n",
      " 2   flat_type            196686 non-null  object \n",
      " 3   block                196686 non-null  object \n",
      " 4   street_name          196686 non-null  object \n",
      " 5   storey_range         196686 non-null  object \n",
      " 6   floor_area_sqm       196686 non-null  float64\n",
      " 7   flat_model           196686 non-null  object \n",
      " 8   lease_commence_date  196686 non-null  int64  \n",
      " 9   remaining_lease      196686 non-null  object \n",
      " 10  resale_price         196686 non-null  float64\n",
      "dtypes: float64(2), int64(1), object(8)\n",
      "memory usage: 16.5+ MB\n",
      "None\n",
      "\n",
      "Shape (196686, 11)\n"
     ]
    }
   ],
   "source": [
    "# Load the Dataset\n",
    "try:\n",
    "    resaleFlatPrice = pd.read_csv('./data/resaleFlatPrices.csv')\n",
    "    # Display information about the dataset\n",
    "    print(resaleFlatPrice.head())\n",
    "    print(\"\")\n",
    "    print(resaleFlatPrice.info())\n",
    "    print(\"\")\n",
    "    print(\"Shape\", resaleFlatPrice.shape)\n",
    "except FileNotFoundError:\n",
    "    print(\"Dataset not found. Please ensure the file is in the correct location.\")"
   ]
  },
  {
   "cell_type": "markdown",
   "metadata": {},
   "source": [
    "### 2.1.2 CPI Dataset Description\n",
    "- Source: [Mention dataset source, e.g., data.gov.sg]\n",
    "- Size: [Number of entries and columns]\n",
    "- Structure: [Types of data, e.g., numeric, categorical]\n",
    "- Relevance: [Why this dataset is suitable for the project]"
   ]
  },
  {
   "cell_type": "code",
   "execution_count": 901,
   "metadata": {},
   "outputs": [
    {
     "name": "stdout",
     "output_type": "stream",
     "text": [
      "                            DataSeries  2024Oct  2024Sep  2024Aug  2024Jul  \\\n",
      "0                            All Items  117.058  116.864  116.570  116.328   \n",
      "1                                 Food  119.264  118.886  118.666  118.303   \n",
      "2      Food Excl Food Serving Services  117.907  117.605  117.096  116.512   \n",
      "3                      Bread & Cereals  119.428  118.818  118.120  118.209   \n",
      "4                                 Meat  123.758  124.054  123.747  122.224   \n",
      "\n",
      "   2024Jun  2024May  2024Apr  2024Mar  2024Feb  ...  1961Oct  1961Sep  \\\n",
      "0  116.065  116.316  116.363  115.406  115.449  ...   24.527   24.455   \n",
      "1  118.108  117.951  117.517  117.499  117.787  ...   21.701   21.549   \n",
      "2  116.601  116.696  116.031  116.312  117.559  ...       na       na   \n",
      "3  117.849  117.711  117.152  116.644  116.501  ...       na       na   \n",
      "4  122.779  123.043  123.372  124.619  124.916  ...       na       na   \n",
      "\n",
      "   1961Aug  1961Jul  1961Jun  1961May  1961Apr  1961Mar  1961Feb  1961Jan  \n",
      "0   24.551   24.413   24.326   24.246   24.365   24.543   24.249   24.253  \n",
      "1   21.723   21.515   21.383   21.253   21.432   21.743   21.314   21.412  \n",
      "2       na       na       na       na       na       na       na       na  \n",
      "3       na       na       na       na       na       na       na       na  \n",
      "4       na       na       na       na       na       na       na       na  \n",
      "\n",
      "[5 rows x 767 columns]\n",
      "\n",
      "Shape (57, 767)\n"
     ]
    }
   ],
   "source": [
    "# Load the Dataset\n",
    "try:\n",
    "    cpi = pd.read_csv('./data/CPI.csv')\n",
    "    # Display information about the dataset\n",
    "    print(cpi.head())\n",
    "    print(\"\")\n",
    "    print(\"Shape\", cpi.shape)\n",
    "except FileNotFoundError:\n",
    "    print(\"Dataset not found. Please ensure the file is in the correct location.\")"
   ]
  },
  {
   "cell_type": "markdown",
   "metadata": {},
   "source": [
    "### 2.1.3 Interest Rates Dataset Description\n",
    "- Source: [Mention dataset source, e.g., data.gov.sg]\n",
    "- Size: [Number of entries and columns]\n",
    "- Structure: [Types of data, e.g., numeric, categorical]\n",
    "- Relevance: [Why this dataset is suitable for the project]"
   ]
  },
  {
   "cell_type": "code",
   "execution_count": 902,
   "metadata": {},
   "outputs": [
    {
     "name": "stdout",
     "output_type": "stream",
     "text": [
      "                                          DataSeries  2024Nov  2024Oct  \\\n",
      "0          Government Securities - 5-Year Bond Yield     2.73     2.71   \n",
      "1          Government Securities - 2-Year Bond Yield     2.77     2.69   \n",
      "2         Government Securities - 10-Year Bond Yield     2.74     2.82   \n",
      "3  Government Securities - 1-Year Treasury Bills ...     2.75     2.73   \n",
      "4         Government Securities - 15-Year Bond Yield     2.80     2.87   \n",
      "\n",
      "   2024Sep  2024Aug  2024Jul  2024Jun  2024May  2024Apr  2024Mar  ...  \\\n",
      "0     2.50     2.56     2.80     3.19     3.34     3.40     3.05  ...   \n",
      "1     2.44     2.55     2.94     3.34     3.42     3.50     3.36  ...   \n",
      "2     2.62     2.71     2.88     3.21     3.36     3.45     3.11  ...   \n",
      "3     3.04     3.14     3.39     3.58     3.57     3.57     3.46  ...   \n",
      "4     2.69     2.79     2.90     3.21     3.34     3.45     3.09  ...   \n",
      "\n",
      "   1988Oct  1988Sep  1988Aug  1988Jul  1988Jun  1988May  1988Apr  1988Mar  \\\n",
      "0     5.38     5.62     5.74     5.32     5.14     4.96     4.86     4.82   \n",
      "1     4.76     5.03      5.2     4.54     4.17     4.16      3.8     3.59   \n",
      "2       na       na       na       na       na       na       na       na   \n",
      "3     4.46     4.76     4.86     4.29     3.84     3.86     3.21     3.15   \n",
      "4       na       na       na       na       na       na       na       na   \n",
      "\n",
      "   1988Feb  1988Jan  \n",
      "0     4.97     4.95  \n",
      "1     3.69      3.7  \n",
      "2       na       na  \n",
      "3     3.03     2.95  \n",
      "4       na       na  \n",
      "\n",
      "[5 rows x 444 columns]\n",
      "\n",
      "<class 'pandas.core.frame.DataFrame'>\n",
      "RangeIndex: 8 entries, 0 to 7\n",
      "Columns: 444 entries, DataSeries to 1988Jan\n",
      "dtypes: float64(214), object(230)\n",
      "memory usage: 27.9+ KB\n",
      "None\n",
      "\n",
      "Shape (8, 444)\n"
     ]
    }
   ],
   "source": [
    "# Load the Dataset\n",
    "try:\n",
    "    interestRate = pd.read_csv('./data/banksInterestRates.csv')\n",
    "    print(interestRate.head())\n",
    "    print(\"\")\n",
    "    print(interestRate.info())\n",
    "    print(\"\")\n",
    "    print(\"Shape\", interestRate.shape)\n",
    "except FileNotFoundError:\n",
    "    print(\"Dataset not found. Please ensure the file is in the correct location.\")"
   ]
  },
  {
   "cell_type": "markdown",
   "metadata": {},
   "source": [
    "### 2.1.4 Salary Dataset Description\n",
    "- Source: [Mention dataset source, e.g., data.gov.sg]\n",
    "- Size: [Number of entries and columns]\n",
    "- Structure: [Types of data, e.g., numeric, categorical]\n",
    "- Relevance: [Why this dataset is suitable for the project]"
   ]
  },
  {
   "cell_type": "code",
   "execution_count": 903,
   "metadata": {},
   "outputs": [
    {
     "name": "stdout",
     "output_type": "stream",
     "text": [
      "   year     sex  med_income_incl_empcpf  med_income_excl_empcpf\n",
      "0  2001    male                    2514                    2250\n",
      "1  2001  female                    2204                    1950\n",
      "2  2002    male                    2514                    2176\n",
      "3  2002  female                    2219                    1950\n",
      "4  2003    male                    2514                    2217\n",
      "\n",
      "<class 'pandas.core.frame.DataFrame'>\n",
      "RangeIndex: 42 entries, 0 to 41\n",
      "Data columns (total 4 columns):\n",
      " #   Column                  Non-Null Count  Dtype \n",
      "---  ------                  --------------  ----- \n",
      " 0   year                    42 non-null     int64 \n",
      " 1   sex                     42 non-null     object\n",
      " 2   med_income_incl_empcpf  42 non-null     int64 \n",
      " 3   med_income_excl_empcpf  42 non-null     int64 \n",
      "dtypes: int64(3), object(1)\n",
      "memory usage: 1.4+ KB\n",
      "None\n",
      "\n",
      "Shape (42, 4)\n"
     ]
    }
   ],
   "source": [
    "# Load the Dataset\n",
    "try:\n",
    "    salary = pd.read_csv('./data/medianIncome.csv')\n",
    "    print(salary.head())\n",
    "    print(\"\")\n",
    "    print(salary.info())\n",
    "    print(\"\")\n",
    "    print(\"Shape\", salary.shape)\n",
    "except FileNotFoundError:\n",
    "    print(\"Dataset not found. Please ensure the file is in the correct location.\")"
   ]
  },
  {
   "cell_type": "markdown",
   "metadata": {},
   "source": [
    "### 2.1.5 Employment Dataset Description\n",
    "- Source: [Mention dataset source, e.g., data.gov.sg]\n",
    "- Size: [Number of entries and columns]\n",
    "- Structure: [Types of data, e.g., numeric, categorical]\n",
    "- Relevance: [Why this dataset is suitable for the project]"
   ]
  },
  {
   "cell_type": "code",
   "execution_count": 904,
   "metadata": {},
   "outputs": [
    {
     "name": "stdout",
     "output_type": "stream",
     "text": [
      "   year     sex  emp_rate\n",
      "0  1991    male      90.9\n",
      "1  1991  female      50.8\n",
      "2  1992    male      90.0\n",
      "3  1992  female      51.9\n",
      "4  1993    male      90.3\n",
      "\n",
      "<class 'pandas.core.frame.DataFrame'>\n",
      "RangeIndex: 60 entries, 0 to 59\n",
      "Data columns (total 3 columns):\n",
      " #   Column    Non-Null Count  Dtype  \n",
      "---  ------    --------------  -----  \n",
      " 0   year      60 non-null     int64  \n",
      " 1   sex       60 non-null     object \n",
      " 2   emp_rate  60 non-null     float64\n",
      "dtypes: float64(1), int64(1), object(1)\n",
      "memory usage: 1.5+ KB\n",
      "None\n",
      "\n",
      "Shape (60, 3)\n"
     ]
    }
   ],
   "source": [
    "# Load the Dataset\n",
    "try:\n",
    "    employmentRate = pd.read_csv('./data/employmentRate.csv')\n",
    "    print(employmentRate.head())\n",
    "    print(\"\")\n",
    "    print(employmentRate.info())\n",
    "    print(\"\")\n",
    "    print(\"Shape\", employmentRate.shape)\n",
    "except FileNotFoundError:\n",
    "    print(\"Dataset not found. Please ensure the file is in the correct location.\")"
   ]
  },
  {
   "cell_type": "markdown",
   "metadata": {},
   "source": [
    "### 2.1.6 Population Dataset Description\n",
    "- Source: [Mention dataset source, e.g., data.gov.sg]\n",
    "- Size: [Number of entries and columns]\n",
    "- Structure: [Types of data, e.g., numeric, categorical]\n",
    "- Relevance: [Why this dataset is suitable for the project]"
   ]
  },
  {
   "cell_type": "code",
   "execution_count": 905,
   "metadata": {},
   "outputs": [
    {
     "name": "stdout",
     "output_type": "stream",
     "text": [
      "   Data Series  Total Population (Number)  \\\n",
      "0         2024                    6036860   \n",
      "1         2023                    5917648   \n",
      "2         2022                    5637022   \n",
      "3         2021                    5453566   \n",
      "4         2020                    5685807   \n",
      "\n",
      "   Total Population -> 0 - 14 Years (Number)  \\\n",
      "0                                     677425   \n",
      "1                                     681459   \n",
      "2                                     675638   \n",
      "3                                     670531   \n",
      "4                                     688984   \n",
      "\n",
      "   Total Population -> 15 - 64 Years (Number)  \\\n",
      "0                                     4530831   \n",
      "1                                     4451242   \n",
      "2                                     4226527   \n",
      "3                                     4087584   \n",
      "4                                     4320933   \n",
      "\n",
      "   Total Population -> 65 Years & Over (Number)  \\\n",
      "0                                        828604   \n",
      "1                                        784947   \n",
      "2                                        734857   \n",
      "3                                        695451   \n",
      "4                                        675890   \n",
      "\n",
      "   Total Male Population (Number)  \\\n",
      "0                         3103862   \n",
      "1                         3051224   \n",
      "2                         2890541   \n",
      "3                         2771567   \n",
      "4                         2912155   \n",
      "\n",
      "   Total Male Population -> 0 - 14 Years (Number)  \\\n",
      "0                                          347395   \n",
      "1                                          349387   \n",
      "2                                          346234   \n",
      "3                                          344164   \n",
      "4                                          353100   \n",
      "\n",
      "   Total Male Population -> 15 - 64 Years (Number)  \\\n",
      "0                                          2379823   \n",
      "1                                          2345368   \n",
      "2                                          2210238   \n",
      "3                                          2112426   \n",
      "4                                          2253450   \n",
      "\n",
      "   Total Male Population -> 65 Years & Over (Number)  \\\n",
      "0                                             376644   \n",
      "1                                             356469   \n",
      "2                                             334069   \n",
      "3                                             314977   \n",
      "4                                             305605   \n",
      "\n",
      "   Total Female Population (Number)  \\\n",
      "0                           2932998   \n",
      "1                           2866424   \n",
      "2                           2746481   \n",
      "3                           2681999   \n",
      "4                           2773652   \n",
      "\n",
      "   Total Female Population -> 0 - 14 Years (Number)  \\\n",
      "0                                            330030   \n",
      "1                                            332072   \n",
      "2                                            329404   \n",
      "3                                            326367   \n",
      "4                                            335884   \n",
      "\n",
      "   Total Female Population -> 15 - 64 Years (Number)  \\\n",
      "0                                            2151008   \n",
      "1                                            2105874   \n",
      "2                                            2016289   \n",
      "3                                            1975158   \n",
      "4                                            2067483   \n",
      "\n",
      "   Total Female Population -> 65 Years & Over (Number)  \n",
      "0                                             451960    \n",
      "1                                             428478    \n",
      "2                                             400788    \n",
      "3                                             380474    \n",
      "4                                             370285    \n",
      "\n",
      "<class 'pandas.core.frame.DataFrame'>\n",
      "RangeIndex: 38 entries, 0 to 37\n",
      "Data columns (total 13 columns):\n",
      " #   Column                                               Non-Null Count  Dtype\n",
      "---  ------                                               --------------  -----\n",
      " 0   Data Series                                          38 non-null     int64\n",
      " 1   Total Population (Number)                            38 non-null     int64\n",
      " 2   Total Population -> 0 - 14 Years (Number)            38 non-null     int64\n",
      " 3   Total Population -> 15 - 64 Years (Number)           38 non-null     int64\n",
      " 4   Total Population -> 65 Years & Over (Number)         38 non-null     int64\n",
      " 5   Total Male Population (Number)                       38 non-null     int64\n",
      " 6   Total Male Population -> 0 - 14 Years (Number)       38 non-null     int64\n",
      " 7   Total Male Population -> 15 - 64 Years (Number)      38 non-null     int64\n",
      " 8   Total Male Population -> 65 Years & Over (Number)    38 non-null     int64\n",
      " 9   Total Female Population (Number)                     38 non-null     int64\n",
      " 10  Total Female Population -> 0 - 14 Years (Number)     38 non-null     int64\n",
      " 11  Total Female Population -> 15 - 64 Years (Number)    38 non-null     int64\n",
      " 12  Total Female Population -> 65 Years & Over (Number)  38 non-null     int64\n",
      "dtypes: int64(13)\n",
      "memory usage: 4.0 KB\n",
      "None\n",
      "\n",
      "Shape (38, 13)\n"
     ]
    }
   ],
   "source": [
    "# Load the Dataset\n",
    "try:\n",
    "    population = pd.read_csv('./data/population.csv')\n",
    "    print(population.head())\n",
    "    print(\"\")\n",
    "    print(population.info())\n",
    "    print(\"\")\n",
    "    print(\"Shape\", population.shape)\n",
    "except FileNotFoundError:\n",
    "    print(\"Dataset not found. Please ensure the file is in the correct location.\")"
   ]
  },
  {
   "cell_type": "markdown",
   "metadata": {},
   "source": [
    "### 2.1.7 Schools Dataset Description\n",
    "- Source: [Mention dataset source, e.g., data.gov.sg]\n",
    "- Size: [Number of entries and columns]\n",
    "- Structure: [Types of data, e.g., numeric, categorical]\n",
    "- Relevance: [Why this dataset is suitable for the project]"
   ]
  },
  {
   "cell_type": "code",
   "execution_count": 906,
   "metadata": {},
   "outputs": [
    {
     "name": "stdout",
     "output_type": "stream",
     "text": [
      "                      school_name                            url_address  \\\n",
      "0        ADMIRALTY PRIMARY SCHOOL       https://admiraltypri.moe.edu.sg/   \n",
      "1      ADMIRALTY SECONDARY SCHOOL     http://www.admiraltysec.moe.edu.sg   \n",
      "2    AHMAD IBRAHIM PRIMARY SCHOOL  http://www.ahmadibrahimpri.moe.edu.sg   \n",
      "3  AHMAD IBRAHIM SECONDARY SCHOOL  http://www.ahmadibrahimsec.moe.edu.sg   \n",
      "4                  AI TONG SCHOOL           http://www.aitong.moe.edu.sg   \n",
      "\n",
      "                   address  postal_code telephone_no telephone_no_2    fax_no  \\\n",
      "0    11   WOODLANDS CIRCLE       738907     63620598             na  63627512   \n",
      "1  31   WOODLANDS CRESCENT       737916     63651733       63654596  63652774   \n",
      "2    10   YISHUN STREET 11       768643     67592906             na  67592927   \n",
      "3     751  YISHUN AVENUE 7       768928     67585384             na  67557778   \n",
      "4   100  Bright Hill Drive       579646     64547672             na  64532726   \n",
      "\n",
      "  fax_no_2            email_address                  mrt_desc  ...  \\\n",
      "0       na  ADMIRALTY_PS@MOE.EDU.SG         Admiralty Station  ...   \n",
      "1       na  Admiralty_SS@moe.edu.sg             ADMIRALTY MRT  ...   \n",
      "2       na          aips@moe.edu.sg                    Yishun  ...   \n",
      "3       na          aiss@moe.edu.sg  CANBERRA MRT, YISHUN MRT  ...   \n",
      "4       na    AITONG_SCH@MOE.EDU.SG                Bishan MRT  ...   \n",
      "\n",
      "    nature_code    session_code mainlevel_code sap_ind autonomous_ind  \\\n",
      "0  CO-ED SCHOOL        FULL DAY        PRIMARY      No             No   \n",
      "1  CO-ED SCHOOL  SINGLE SESSION      SECONDARY      No             No   \n",
      "2  CO-ED SCHOOL  SINGLE SESSION        PRIMARY      No             No   \n",
      "3  CO-ED SCHOOL  SINGLE SESSION      SECONDARY      No             No   \n",
      "4  CO-ED SCHOOL  SINGLE SESSION        PRIMARY     Yes             No   \n",
      "\n",
      "  gifted_ind ip_ind  mothertongue1_code mothertongue2_code mothertongue3_code  \n",
      "0         No     No             Chinese              Malay              Tamil  \n",
      "1         No     No             Chinese              Malay              Tamil  \n",
      "2         No     No             Chinese              Malay              Tamil  \n",
      "3         No     No             Chinese              Malay              Tamil  \n",
      "4         No     No             Chinese                 na                 na  \n",
      "\n",
      "[5 rows x 31 columns]\n",
      "\n",
      "<class 'pandas.core.frame.DataFrame'>\n",
      "RangeIndex: 337 entries, 0 to 336\n",
      "Data columns (total 31 columns):\n",
      " #   Column              Non-Null Count  Dtype  \n",
      "---  ------              --------------  -----  \n",
      " 0   school_name         337 non-null    object \n",
      " 1   url_address         337 non-null    object \n",
      " 2   address             337 non-null    object \n",
      " 3   postal_code         337 non-null    int64  \n",
      " 4   telephone_no        337 non-null    object \n",
      " 5   telephone_no_2      337 non-null    object \n",
      " 6   fax_no              337 non-null    object \n",
      " 7   fax_no_2            337 non-null    object \n",
      " 8   email_address       337 non-null    object \n",
      " 9   mrt_desc            337 non-null    object \n",
      " 10  bus_desc            337 non-null    object \n",
      " 11  principal_name      337 non-null    object \n",
      " 12  first_vp_name       333 non-null    object \n",
      " 13  second_vp_name      327 non-null    object \n",
      " 14  third_vp_name       121 non-null    object \n",
      " 15  fourth_vp_name      5 non-null      object \n",
      " 16  fifth_vp_name       3 non-null      object \n",
      " 17  sixth_vp_name       0 non-null      float64\n",
      " 18  dgp_code            337 non-null    object \n",
      " 19  zone_code           337 non-null    object \n",
      " 20  type_code           337 non-null    object \n",
      " 21  nature_code         337 non-null    object \n",
      " 22  session_code        337 non-null    object \n",
      " 23  mainlevel_code      337 non-null    object \n",
      " 24  sap_ind             337 non-null    object \n",
      " 25  autonomous_ind      337 non-null    object \n",
      " 26  gifted_ind          337 non-null    object \n",
      " 27  ip_ind              337 non-null    object \n",
      " 28  mothertongue1_code  337 non-null    object \n",
      " 29  mothertongue2_code  337 non-null    object \n",
      " 30  mothertongue3_code  337 non-null    object \n",
      "dtypes: float64(1), int64(1), object(29)\n",
      "memory usage: 81.7+ KB\n",
      "None\n",
      "\n",
      "Shape (337, 31)\n"
     ]
    }
   ],
   "source": [
    "# Load the Dataset\n",
    "try:\n",
    "    schools = pd.read_csv('./data/schools.csv')\n",
    "    print(schools.head())\n",
    "    print(\"\")\n",
    "    print(schools.info())\n",
    "    print(\"\")\n",
    "    print(\"Shape\", schools.shape)\n",
    "except FileNotFoundError:\n",
    "    print(\"Dataset not found. Please ensure the file is in the correct location.\")"
   ]
  },
  {
   "cell_type": "markdown",
   "metadata": {},
   "source": [
    "### 2.1.8 Hawker Centres Dataset Description\n",
    "- Source: [Mention dataset source, e.g., data.gov.sg]\n",
    "- Size: [Number of entries and columns]\n",
    "- Structure: [Types of data, e.g., numeric, categorical]\n",
    "- Relevance: [Why this dataset is suitable for the project]"
   ]
  },
  {
   "cell_type": "code",
   "execution_count": 907,
   "metadata": {},
   "outputs": [
    {
     "name": "stdout",
     "output_type": "stream",
     "text": [
      "            name_of_centre                                 location_of_centre  \\\n",
      "0    Adam Road Food Centre                            2, Adam Road, S(289876)   \n",
      "1  Amoy Street Food Centre  National Development Building, Annex B, Telok ...   \n",
      "2        Bedok Food Centre                           1, Bedok Road, S(469572)   \n",
      "3      Beo Crescent Market                       38A, Beo Crescent, S(169982)   \n",
      "4       Berseh Food Centre                        166, Jalan Besar, S(208877)   \n",
      "\n",
      "  type_of_centre       owner  no_of_stalls  no_of_cooked_food_stalls  \\\n",
      "0             HC  Government            32                        32   \n",
      "1             HC  Government           135                       134   \n",
      "2             HC  Government            32                        32   \n",
      "3            MHC  Government            94                        32   \n",
      "4             HC  Government            66                        66   \n",
      "\n",
      "   no_of_mkt_produce_stalls  \n",
      "0                         0  \n",
      "1                         1  \n",
      "2                         0  \n",
      "3                        62  \n",
      "4                         0  \n",
      "\n",
      "<class 'pandas.core.frame.DataFrame'>\n",
      "RangeIndex: 107 entries, 0 to 106\n",
      "Data columns (total 7 columns):\n",
      " #   Column                    Non-Null Count  Dtype \n",
      "---  ------                    --------------  ----- \n",
      " 0   name_of_centre            107 non-null    object\n",
      " 1   location_of_centre        107 non-null    object\n",
      " 2   type_of_centre            107 non-null    object\n",
      " 3   owner                     107 non-null    object\n",
      " 4   no_of_stalls              107 non-null    int64 \n",
      " 5   no_of_cooked_food_stalls  107 non-null    int64 \n",
      " 6   no_of_mkt_produce_stalls  107 non-null    int64 \n",
      "dtypes: int64(3), object(4)\n",
      "memory usage: 6.0+ KB\n",
      "None\n",
      "\n",
      "Shape (107, 7)\n"
     ]
    }
   ],
   "source": [
    "# Load the Dataset\n",
    "try:\n",
    "    hawkerCentres = pd.read_csv('./data/hawkerCentres.csv')\n",
    "    print(hawkerCentres.head())\n",
    "    print(\"\")\n",
    "    print(hawkerCentres.info())\n",
    "    print(\"\")\n",
    "    print(\"Shape\", hawkerCentres.shape)\n",
    "except FileNotFoundError:\n",
    "    print(\"Dataset not found. Please ensure the file is in the correct location.\")"
   ]
  },
  {
   "cell_type": "markdown",
   "metadata": {},
   "source": [
    "# 3. Data Cleaning and Preparation\n",
    "\n",
    "Steps:\n",
    "1. Check for missing values in all datasets.\n",
    "2. Drop irrelevant columns.\n",
    "3. Handle missing data.\n",
    "4. Normalize numerical features."
   ]
  },
  {
   "cell_type": "markdown",
   "metadata": {},
   "source": [
    "## 3.1: Check for missing values in all datasets"
   ]
  },
  {
   "cell_type": "code",
   "execution_count": 908,
   "metadata": {},
   "outputs": [],
   "source": [
    "# Combine all datasets into a dictionary\n",
    "datasets = {\n",
    "    \"Resale Flat Prices\": resaleFlatPrice,\n",
    "    \"CPI\": cpi,\n",
    "    \"Interest Rates\": interestRate,\n",
    "    \"Median Income\": salary,\n",
    "    \"Employment Rate\": employmentRate,\n",
    "    \"Population\": population,\n",
    "    \"Schools\": schools,\n",
    "    \"Hawker Centres\": hawkerCentres\n",
    "}"
   ]
  },
  {
   "cell_type": "code",
   "execution_count": 909,
   "metadata": {},
   "outputs": [
    {
     "name": "stdout",
     "output_type": "stream",
     "text": [
      "Checking for null or NA values in datasets:\n",
      "\n",
      "Resale Flat Prices:\n",
      "No null or NA values found.\n",
      "\n",
      "CPI:\n",
      "No null or NA values found.\n",
      "\n",
      "Interest Rates:\n",
      "No null or NA values found.\n",
      "\n",
      "Median Income:\n",
      "No null or NA values found.\n",
      "\n",
      "Employment Rate:\n",
      "No null or NA values found.\n",
      "\n",
      "Population:\n",
      "No null or NA values found.\n",
      "\n",
      "Schools:\n",
      "school_name             0\n",
      "url_address             0\n",
      "address                 0\n",
      "postal_code             0\n",
      "telephone_no            0\n",
      "telephone_no_2          0\n",
      "fax_no                  0\n",
      "fax_no_2                0\n",
      "email_address           0\n",
      "mrt_desc                0\n",
      "bus_desc                0\n",
      "principal_name          0\n",
      "first_vp_name           4\n",
      "second_vp_name         10\n",
      "third_vp_name         216\n",
      "fourth_vp_name        332\n",
      "fifth_vp_name         334\n",
      "sixth_vp_name         337\n",
      "dgp_code                0\n",
      "zone_code               0\n",
      "type_code               0\n",
      "nature_code             0\n",
      "session_code            0\n",
      "mainlevel_code          0\n",
      "sap_ind                 0\n",
      "autonomous_ind          0\n",
      "gifted_ind              0\n",
      "ip_ind                  0\n",
      "mothertongue1_code      0\n",
      "mothertongue2_code      0\n",
      "mothertongue3_code      0\n",
      "dtype: int64\n",
      "\n",
      "Hawker Centres:\n",
      "No null or NA values found.\n"
     ]
    }
   ],
   "source": [
    "# Check for null or NA values\n",
    "print(\"Checking for null or NA values in datasets:\")\n",
    "for name, dataset in datasets.items():\n",
    "    print(f\"\\n{name}:\")\n",
    "    if dataset.isnull().sum().sum() > 0:\n",
    "        print(dataset.isnull().sum())\n",
    "    else:\n",
    "        print(\"No null or NA values found.\")"
   ]
  },
  {
   "cell_type": "markdown",
   "metadata": {},
   "source": [
    "## 3.2: Drop irrelevant columns and rows"
   ]
  },
  {
   "cell_type": "markdown",
   "metadata": {},
   "source": [
    "### 3.2.1: Resale Flat Price Dataset\n",
    "\n",
    "- Combine 'block' and 'street_name' columns into a single 'address' column.\n",
    "- Drop 'block' and 'street_name' columns.\n",
    "- Drop rows with timestamp before 2019."
   ]
  },
  {
   "cell_type": "code",
   "execution_count": 910,
   "metadata": {},
   "outputs": [
    {
     "data": {
      "text/html": [
       "<div>\n",
       "<style scoped>\n",
       "    .dataframe tbody tr th:only-of-type {\n",
       "        vertical-align: middle;\n",
       "    }\n",
       "\n",
       "    .dataframe tbody tr th {\n",
       "        vertical-align: top;\n",
       "    }\n",
       "\n",
       "    .dataframe thead th {\n",
       "        text-align: right;\n",
       "    }\n",
       "</style>\n",
       "<table border=\"1\" class=\"dataframe\">\n",
       "  <thead>\n",
       "    <tr style=\"text-align: right;\">\n",
       "      <th></th>\n",
       "      <th>month</th>\n",
       "      <th>town</th>\n",
       "      <th>flat_type</th>\n",
       "      <th>storey_range</th>\n",
       "      <th>floor_area_sqm</th>\n",
       "      <th>flat_model</th>\n",
       "      <th>lease_commence_date</th>\n",
       "      <th>remaining_lease</th>\n",
       "      <th>resale_price</th>\n",
       "      <th>address</th>\n",
       "    </tr>\n",
       "  </thead>\n",
       "  <tbody>\n",
       "    <tr>\n",
       "      <th>0</th>\n",
       "      <td>2017-01</td>\n",
       "      <td>ANG MO KIO</td>\n",
       "      <td>2 ROOM</td>\n",
       "      <td>10 TO 12</td>\n",
       "      <td>44.0</td>\n",
       "      <td>Improved</td>\n",
       "      <td>1979</td>\n",
       "      <td>61 years 04 months</td>\n",
       "      <td>232000.0</td>\n",
       "      <td>406 ANG MO KIO AVE 10</td>\n",
       "    </tr>\n",
       "    <tr>\n",
       "      <th>1</th>\n",
       "      <td>2017-01</td>\n",
       "      <td>ANG MO KIO</td>\n",
       "      <td>3 ROOM</td>\n",
       "      <td>01 TO 03</td>\n",
       "      <td>67.0</td>\n",
       "      <td>New Generation</td>\n",
       "      <td>1978</td>\n",
       "      <td>60 years 07 months</td>\n",
       "      <td>250000.0</td>\n",
       "      <td>108 ANG MO KIO AVE 4</td>\n",
       "    </tr>\n",
       "    <tr>\n",
       "      <th>2</th>\n",
       "      <td>2017-01</td>\n",
       "      <td>ANG MO KIO</td>\n",
       "      <td>3 ROOM</td>\n",
       "      <td>01 TO 03</td>\n",
       "      <td>67.0</td>\n",
       "      <td>New Generation</td>\n",
       "      <td>1980</td>\n",
       "      <td>62 years 05 months</td>\n",
       "      <td>262000.0</td>\n",
       "      <td>602 ANG MO KIO AVE 5</td>\n",
       "    </tr>\n",
       "    <tr>\n",
       "      <th>3</th>\n",
       "      <td>2017-01</td>\n",
       "      <td>ANG MO KIO</td>\n",
       "      <td>3 ROOM</td>\n",
       "      <td>04 TO 06</td>\n",
       "      <td>68.0</td>\n",
       "      <td>New Generation</td>\n",
       "      <td>1980</td>\n",
       "      <td>62 years 01 month</td>\n",
       "      <td>265000.0</td>\n",
       "      <td>465 ANG MO KIO AVE 10</td>\n",
       "    </tr>\n",
       "    <tr>\n",
       "      <th>4</th>\n",
       "      <td>2017-01</td>\n",
       "      <td>ANG MO KIO</td>\n",
       "      <td>3 ROOM</td>\n",
       "      <td>01 TO 03</td>\n",
       "      <td>67.0</td>\n",
       "      <td>New Generation</td>\n",
       "      <td>1980</td>\n",
       "      <td>62 years 05 months</td>\n",
       "      <td>265000.0</td>\n",
       "      <td>601 ANG MO KIO AVE 5</td>\n",
       "    </tr>\n",
       "  </tbody>\n",
       "</table>\n",
       "</div>"
      ],
      "text/plain": [
       "     month        town flat_type storey_range  floor_area_sqm      flat_model  \\\n",
       "0  2017-01  ANG MO KIO    2 ROOM     10 TO 12            44.0        Improved   \n",
       "1  2017-01  ANG MO KIO    3 ROOM     01 TO 03            67.0  New Generation   \n",
       "2  2017-01  ANG MO KIO    3 ROOM     01 TO 03            67.0  New Generation   \n",
       "3  2017-01  ANG MO KIO    3 ROOM     04 TO 06            68.0  New Generation   \n",
       "4  2017-01  ANG MO KIO    3 ROOM     01 TO 03            67.0  New Generation   \n",
       "\n",
       "   lease_commence_date     remaining_lease  resale_price  \\\n",
       "0                 1979  61 years 04 months      232000.0   \n",
       "1                 1978  60 years 07 months      250000.0   \n",
       "2                 1980  62 years 05 months      262000.0   \n",
       "3                 1980   62 years 01 month      265000.0   \n",
       "4                 1980  62 years 05 months      265000.0   \n",
       "\n",
       "                 address  \n",
       "0  406 ANG MO KIO AVE 10  \n",
       "1   108 ANG MO KIO AVE 4  \n",
       "2   602 ANG MO KIO AVE 5  \n",
       "3  465 ANG MO KIO AVE 10  \n",
       "4   601 ANG MO KIO AVE 5  "
      ]
     },
     "execution_count": 910,
     "metadata": {},
     "output_type": "execute_result"
    }
   ],
   "source": [
    "# Check if the necessary columns exist\n",
    "if 'block' in resaleFlatPrice.columns and 'street_name' in resaleFlatPrice.columns:\n",
    "    # Combine 'block' and 'street_name' columns into a single column\n",
    "    resaleFlatPrice['address'] = resaleFlatPrice['block'] + ' ' + resaleFlatPrice['street_name']\n",
    "\n",
    "    # Drop the 'block' and 'street_name' columns\n",
    "    resaleFlatPrice.drop(columns=['block', 'street_name'], inplace=True)\n",
    "\n",
    "# Display the updated DataFrame\n",
    "resaleFlatPrice.head()\n"
   ]
  },
  {
   "cell_type": "code",
   "execution_count": 911,
   "metadata": {},
   "outputs": [
    {
     "name": "stdout",
     "output_type": "stream",
     "text": [
      "       month         town flat_type storey_range  floor_area_sqm  \\\n",
      "0 2024-12-01  JURONG WEST    5 ROOM     10 TO 12           114.0   \n",
      "1 2024-12-01      PUNGGOL    5 ROOM     10 TO 12           113.0   \n",
      "2 2024-12-01      PUNGGOL    5 ROOM     04 TO 06           111.0   \n",
      "3 2024-12-01  BUKIT BATOK    3 ROOM     04 TO 06            73.0   \n",
      "4 2024-12-01  BUKIT BATOK    3 ROOM     07 TO 09            74.0   \n",
      "\n",
      "          flat_model  lease_commence_date     remaining_lease  resale_price  \\\n",
      "0  Premium Apartment                 2008  82 years 09 months      620000.0   \n",
      "1           Improved                 2018            93 years      775000.0   \n",
      "2  Premium Apartment                 2013  87 years 04 months      850000.0   \n",
      "3            Model A                 1984  59 years 02 months      428000.0   \n",
      "4            Model A                 1985  59 years 03 months      425888.0   \n",
      "\n",
      "                  address  \n",
      "0  989A JURONG WEST ST 93  \n",
      "1        231B SUMANG LANE  \n",
      "2         289C PUNGGOL PL  \n",
      "3      164 BT BATOK ST 11  \n",
      "4      162 BT BATOK ST 11  \n",
      "\n",
      "Shape: (154616, 10)\n"
     ]
    }
   ],
   "source": [
    "# Ensure 'month' column is in datetime format\n",
    "resaleFlatPrice['month'] = pd.to_datetime(resaleFlatPrice['month'], format='%Y-%m')\n",
    "\n",
    "# Sort the DataFrame in descending order of the 'month' column\n",
    "resaleFlatPrice.sort_values(by='month', ascending=False, inplace=True)\n",
    "\n",
    "# Filter and keep only rows where the year is greater than or equal to the specified year\n",
    "resaleFlatPrice = resaleFlatPrice[resaleFlatPrice['month'].dt.year >= year]\n",
    "\n",
    "# Reset the index to 0\n",
    "resaleFlatPrice.reset_index(drop=True, inplace=True)\n",
    "\n",
    "# Display the updated DataFrame\n",
    "print(resaleFlatPrice.head())\n",
    "print(\"\")\n",
    "print(\"Shape:\", resaleFlatPrice.shape)"
   ]
  },
  {
   "cell_type": "markdown",
   "metadata": {},
   "source": [
    "### 3.2.2: CPI Dataset\n",
    "\n",
    "TODOs:\n",
    "- Drop all rows except All Items.\n",
    "- Tranpose the dataset and rename the columns to 'month' and 'cpi'.\n",
    "- Drop the column 'DataSeries'.\n",
    "- Drop rows from 'month' column with date and time before the specified year above."
   ]
  },
  {
   "cell_type": "code",
   "execution_count": 912,
   "metadata": {},
   "outputs": [
    {
     "data": {
      "text/html": [
       "<div>\n",
       "<style scoped>\n",
       "    .dataframe tbody tr th:only-of-type {\n",
       "        vertical-align: middle;\n",
       "    }\n",
       "\n",
       "    .dataframe tbody tr th {\n",
       "        vertical-align: top;\n",
       "    }\n",
       "\n",
       "    .dataframe thead th {\n",
       "        text-align: right;\n",
       "    }\n",
       "</style>\n",
       "<table border=\"1\" class=\"dataframe\">\n",
       "  <thead>\n",
       "    <tr style=\"text-align: right;\">\n",
       "      <th></th>\n",
       "      <th>DataSeries</th>\n",
       "      <th>month</th>\n",
       "      <th>cpi</th>\n",
       "    </tr>\n",
       "  </thead>\n",
       "  <tbody>\n",
       "    <tr>\n",
       "      <th>0</th>\n",
       "      <td>All Items</td>\n",
       "      <td>2024Oct</td>\n",
       "      <td>117.058</td>\n",
       "    </tr>\n",
       "    <tr>\n",
       "      <th>1</th>\n",
       "      <td>All Items</td>\n",
       "      <td>2024Sep</td>\n",
       "      <td>116.864</td>\n",
       "    </tr>\n",
       "    <tr>\n",
       "      <th>2</th>\n",
       "      <td>All Items</td>\n",
       "      <td>2024Aug</td>\n",
       "      <td>116.57</td>\n",
       "    </tr>\n",
       "    <tr>\n",
       "      <th>3</th>\n",
       "      <td>All Items</td>\n",
       "      <td>2024Jul</td>\n",
       "      <td>116.328</td>\n",
       "    </tr>\n",
       "    <tr>\n",
       "      <th>4</th>\n",
       "      <td>All Items</td>\n",
       "      <td>2024Jun</td>\n",
       "      <td>116.065</td>\n",
       "    </tr>\n",
       "  </tbody>\n",
       "</table>\n",
       "</div>"
      ],
      "text/plain": [
       "  DataSeries    month      cpi\n",
       "0  All Items  2024Oct  117.058\n",
       "1  All Items  2024Sep  116.864\n",
       "2  All Items  2024Aug   116.57\n",
       "3  All Items  2024Jul  116.328\n",
       "4  All Items  2024Jun  116.065"
      ]
     },
     "execution_count": 912,
     "metadata": {},
     "output_type": "execute_result"
    }
   ],
   "source": [
    "# Filter the dataset to keep only rows where the 'DataSeries' is 'All Items'\n",
    "cpi = cpi[cpi['DataSeries'] == 'All Items']\n",
    "\n",
    "# Transform the data from wide to long format\n",
    "cpi = cpi.melt(id_vars=['DataSeries'], var_name='month', value_name='cpi')\n",
    "\n",
    "cpi.head()"
   ]
  },
  {
   "cell_type": "code",
   "execution_count": 913,
   "metadata": {},
   "outputs": [
    {
     "name": "stdout",
     "output_type": "stream",
     "text": [
      "Dropped 'DataSeries' column.\n",
      "\n",
      "     month      cpi\n",
      "0  2024Oct  117.058\n",
      "1  2024Sep  116.864\n",
      "2  2024Aug   116.57\n",
      "3  2024Jul  116.328\n",
      "4  2024Jun  116.065\n"
     ]
    }
   ],
   "source": [
    "try:\n",
    "    # Drop the 'DataSeries' column and rename 'CPI_Value' to 'CPI'\n",
    "    if 'DataSeries' in cpi.columns:\n",
    "        cpi.drop(columns=['DataSeries'], inplace=True)\n",
    "        print(\"Dropped 'DataSeries' column.\")\n",
    "    else:\n",
    "        print(\"'DataSeries' column has already been dropped.\")\n",
    "\n",
    "    # Display the updated DataFrame\n",
    "    print(\"\")\n",
    "    print(cpi.head())\n",
    "except Exception as e:\n",
    "    print(f\"An error occurred: {e}\")"
   ]
  },
  {
   "cell_type": "code",
   "execution_count": 914,
   "metadata": {},
   "outputs": [
    {
     "name": "stdout",
     "output_type": "stream",
     "text": [
      "       month      cpi\n",
      "0 2024-10-01  117.058\n",
      "1 2024-09-01  116.864\n",
      "2 2024-08-01   116.57\n",
      "3 2024-07-01  116.328\n",
      "4 2024-06-01  116.065\n",
      "\n",
      "Shape: (70, 2)\n"
     ]
    }
   ],
   "source": [
    "try:\n",
    "    # Ensure 'month' column is in datetime format\n",
    "    cpi['month'] = pd.to_datetime(cpi['month'], format='%Y%b', errors='coerce')\n",
    "    \n",
    "    # Drop rows with invalid or missing dates\n",
    "    cpi.dropna(subset=['month'], inplace=True)\n",
    "\n",
    "    # Filter and keep only rows where the year is greater than or equal to the specified year\n",
    "    cpi = cpi[cpi['month'].dt.year >= year]\n",
    "\n",
    "    # Reset the index to start from 0\n",
    "    cpi.reset_index(drop=True, inplace=True)\n",
    "\n",
    "    # Display the updated DataFrame and its shape\n",
    "    print(cpi.head())\n",
    "    print(\"\")\n",
    "    print(\"Shape:\", cpi.shape)\n",
    "except Exception as e:\n",
    "    print(f\"An error occurred: {e}\")"
   ]
  },
  {
   "cell_type": "markdown",
   "metadata": {},
   "source": [
    "### 3.2.3: Interest Rates Dataset\n",
    "\n",
    "TODOs:\n",
    "- Drop all rows except Singapore Overnight Rate Average.\n",
    "- Tranpose the dataset and rename the columns to 'month' and 'interest_rate'.\n",
    "- Drop the column 'DataSeries'.\n",
    "- Drop rows from 'month' column with date and time before the specified year above."
   ]
  },
  {
   "cell_type": "code",
   "execution_count": 915,
   "metadata": {},
   "outputs": [
    {
     "data": {
      "text/html": [
       "<div>\n",
       "<style scoped>\n",
       "    .dataframe tbody tr th:only-of-type {\n",
       "        vertical-align: middle;\n",
       "    }\n",
       "\n",
       "    .dataframe tbody tr th {\n",
       "        vertical-align: top;\n",
       "    }\n",
       "\n",
       "    .dataframe thead th {\n",
       "        text-align: right;\n",
       "    }\n",
       "</style>\n",
       "<table border=\"1\" class=\"dataframe\">\n",
       "  <thead>\n",
       "    <tr style=\"text-align: right;\">\n",
       "      <th></th>\n",
       "      <th>DataSeries</th>\n",
       "      <th>month</th>\n",
       "      <th>interest_rate</th>\n",
       "    </tr>\n",
       "  </thead>\n",
       "  <tbody>\n",
       "    <tr>\n",
       "      <th>0</th>\n",
       "      <td>Singapore Overnight Rate Average</td>\n",
       "      <td>2024Nov</td>\n",
       "      <td>3.0839</td>\n",
       "    </tr>\n",
       "    <tr>\n",
       "      <th>1</th>\n",
       "      <td>Singapore Overnight Rate Average</td>\n",
       "      <td>2024Oct</td>\n",
       "      <td>3.1559</td>\n",
       "    </tr>\n",
       "    <tr>\n",
       "      <th>2</th>\n",
       "      <td>Singapore Overnight Rate Average</td>\n",
       "      <td>2024Sep</td>\n",
       "      <td>3.8808</td>\n",
       "    </tr>\n",
       "    <tr>\n",
       "      <th>3</th>\n",
       "      <td>Singapore Overnight Rate Average</td>\n",
       "      <td>2024Aug</td>\n",
       "      <td>3.5355</td>\n",
       "    </tr>\n",
       "    <tr>\n",
       "      <th>4</th>\n",
       "      <td>Singapore Overnight Rate Average</td>\n",
       "      <td>2024Jul</td>\n",
       "      <td>3.4336</td>\n",
       "    </tr>\n",
       "  </tbody>\n",
       "</table>\n",
       "</div>"
      ],
      "text/plain": [
       "                         DataSeries    month interest_rate\n",
       "0  Singapore Overnight Rate Average  2024Nov        3.0839\n",
       "1  Singapore Overnight Rate Average  2024Oct        3.1559\n",
       "2  Singapore Overnight Rate Average  2024Sep        3.8808\n",
       "3  Singapore Overnight Rate Average  2024Aug        3.5355\n",
       "4  Singapore Overnight Rate Average  2024Jul        3.4336"
      ]
     },
     "execution_count": 915,
     "metadata": {},
     "output_type": "execute_result"
    }
   ],
   "source": [
    "# Filter the dataset to keep only rows where the 'DataSeries' is 'All Items'\n",
    "interestRate = interestRate[interestRate['DataSeries'] == 'Singapore Overnight Rate Average']\n",
    "\n",
    "# Transform the data from wide to long format\n",
    "interestRate = interestRate.melt(id_vars=['DataSeries'], var_name='month', value_name='interest_rate')\n",
    "\n",
    "interestRate.head()"
   ]
  },
  {
   "cell_type": "code",
   "execution_count": 916,
   "metadata": {},
   "outputs": [
    {
     "name": "stdout",
     "output_type": "stream",
     "text": [
      "Dropped 'DataSeries' column.\n",
      "\n",
      "     month interest_rate\n",
      "0  2024Nov        3.0839\n",
      "1  2024Oct        3.1559\n",
      "2  2024Sep        3.8808\n",
      "3  2024Aug        3.5355\n",
      "4  2024Jul        3.4336\n"
     ]
    }
   ],
   "source": [
    "try:\n",
    "    # Drop the 'DataSeries' column and rename 'CPI_Value' to 'CPI'\n",
    "    if 'DataSeries' in interestRate.columns:\n",
    "        interestRate.drop(columns=['DataSeries'], inplace=True)\n",
    "        print(\"Dropped 'DataSeries' column.\")\n",
    "    else:\n",
    "        print(\"'DataSeries' column has already been dropped.\")\n",
    "\n",
    "    # Display the updated DataFrame\n",
    "    print(\"\")\n",
    "    print(interestRate.head())\n",
    "except Exception as e:\n",
    "    print(f\"An error occurred: {e}\")"
   ]
  },
  {
   "cell_type": "code",
   "execution_count": 917,
   "metadata": {},
   "outputs": [
    {
     "name": "stdout",
     "output_type": "stream",
     "text": [
      "       month interest_rate\n",
      "0 2024-11-01        3.0839\n",
      "1 2024-10-01        3.1559\n",
      "2 2024-09-01        3.8808\n",
      "3 2024-08-01        3.5355\n",
      "4 2024-07-01        3.4336\n",
      "\n",
      "Shape: (71, 2)\n"
     ]
    }
   ],
   "source": [
    "try:\n",
    "    # Ensure 'month' column is in datetime format\n",
    "    interestRate['month'] = pd.to_datetime(interestRate['month'], format='%Y%b', errors='coerce')\n",
    "    \n",
    "    # Drop rows with invalid or missing dates\n",
    "    interestRate.dropna(subset=['month'], inplace=True)\n",
    "\n",
    "    # Filter and keep only rows where the year is greater than or equal to the specified year\n",
    "    interestRate = interestRate[interestRate['month'].dt.year >= year]\n",
    "\n",
    "    # Reset the index to start from 0\n",
    "    interestRate.reset_index(drop=True, inplace=True)\n",
    "\n",
    "    # Display the updated DataFrame and its shape\n",
    "    print(interestRate.head())\n",
    "    print(\"\")\n",
    "    print(\"Shape:\", interestRate.shape)\n",
    "except Exception as e:\n",
    "    print(f\"An error occurred: {e}\")"
   ]
  },
  {
   "cell_type": "markdown",
   "metadata": {},
   "source": [
    "### 3.2.4: Salary Dataset\n",
    "\n",
    "TODOs:\n",
    "- Drop the med_income_excl_empcpf column."
   ]
  },
  {
   "cell_type": "code",
   "execution_count": 918,
   "metadata": {},
   "outputs": [
    {
     "name": "stdout",
     "output_type": "stream",
     "text": [
      "       month     sex  med_income_incl_empcpf\n",
      "0 2001-01-01    male                    2514\n",
      "1 2001-01-01  female                    2204\n",
      "2 2002-01-01    male                    2514\n",
      "3 2002-01-01  female                    2219\n",
      "4 2003-01-01    male                    2514\n"
     ]
    }
   ],
   "source": [
    "# Modify the DataFrame\n",
    "try:\n",
    "    # Remove the 'med_income_excl_empcpf' column\n",
    "    salary.drop(columns=['med_income_excl_empcpf'], inplace=True)\n",
    "    \n",
    "    # Rename the 'year' column to 'month'\n",
    "    salary.rename(columns={'year': 'month'}, inplace=True)\n",
    "    \n",
    "    # Convert 'month' column to datetime format with a placeholder month (e.g., January)\n",
    "    salary['month'] = pd.to_datetime(salary['month'].astype(str) + '-01', format='%Y-%m')\n",
    "\n",
    "    \n",
    "    \n",
    "    # Display the updated DataFrame\n",
    "    print(salary.head())\n",
    "except Exception as e:\n",
    "    print(f\"An error occurred: {e}\")\n",
    "\n",
    "    "
   ]
  },
  {
   "cell_type": "code",
   "execution_count": 919,
   "metadata": {},
   "outputs": [
    {
     "name": "stdout",
     "output_type": "stream",
     "text": [
      "       month  median_income\n",
      "0 2022-01-01         5199.0\n",
      "1 2021-01-01         4656.0\n",
      "2 2020-01-01         4546.5\n",
      "3 2019-01-01         4569.5\n",
      "4 2018-01-01         4387.5\n"
     ]
    }
   ],
   "source": [
    "try:\n",
    "    # Group by 'month' and calculate the average income\n",
    "    salary = salary.groupby('month', as_index=False).agg({'med_income_incl_empcpf': 'mean'})\n",
    "    \n",
    "    # Rename the column\n",
    "    salary.rename(columns={'med_income_incl_empcpf': 'median_income'}, inplace=True)\n",
    "\n",
    "     # Sort by 'month' in descending order\n",
    "    salary.sort_values(by='month', ascending=False, inplace=True)\n",
    "\n",
    "    # Reset index\n",
    "    salary.reset_index(drop=True, inplace=True)\n",
    "\n",
    "   # Display the updated DataFrame\n",
    "    print(salary.head())\n",
    "except Exception as e:\n",
    "    print(f\"An error occurred: {e}\")"
   ]
  },
  {
   "cell_type": "markdown",
   "metadata": {},
   "source": [
    "# 4. Statistical Analysis\n",
    "\n",
    "## Statistical Analysis\n",
    "- Central Tendency: Mean, Median\n",
    "- Spread: Standard Deviation, Variance\n",
    "- Distribution: Skewness, Kurtosis"
   ]
  },
  {
   "cell_type": "code",
   "execution_count": 920,
   "metadata": {},
   "outputs": [
    {
     "name": "stdout",
     "output_type": "stream",
     "text": [
      "\n",
      "Statistical Summary:\n"
     ]
    },
    {
     "ename": "NameError",
     "evalue": "name 'data' is not defined",
     "output_type": "error",
     "traceback": [
      "\u001b[0;31m---------------------------------------------------------------------------\u001b[0m",
      "\u001b[0;31mNameError\u001b[0m                                 Traceback (most recent call last)",
      "Cell \u001b[0;32mIn[920], line 2\u001b[0m\n\u001b[1;32m      1\u001b[0m \u001b[38;5;28mprint\u001b[39m(\u001b[38;5;124m\"\u001b[39m\u001b[38;5;130;01m\\n\u001b[39;00m\u001b[38;5;124mStatistical Summary:\u001b[39m\u001b[38;5;124m\"\u001b[39m)\n\u001b[0;32m----> 2\u001b[0m \u001b[38;5;28mprint\u001b[39m(\u001b[43mdata\u001b[49m\u001b[38;5;241m.\u001b[39mdescribe())\n\u001b[1;32m      4\u001b[0m \u001b[38;5;66;03m# Example: Skewness and Kurtosis\u001b[39;00m\n\u001b[1;32m      5\u001b[0m \u001b[38;5;28mprint\u001b[39m(\u001b[38;5;124m\"\u001b[39m\u001b[38;5;130;01m\\n\u001b[39;00m\u001b[38;5;124mSkewness:\u001b[39m\u001b[38;5;124m\"\u001b[39m)\n",
      "\u001b[0;31mNameError\u001b[0m: name 'data' is not defined"
     ]
    }
   ],
   "source": [
    "print(\"\\nStatistical Summary:\")\n",
    "print(data.describe())\n",
    "\n",
    "# Example: Skewness and Kurtosis\n",
    "print(\"\\nSkewness:\")\n",
    "print(data.skew())\n",
    "print(\"\\nKurtosis:\")\n",
    "print(data.kurt())"
   ]
  },
  {
   "cell_type": "markdown",
   "metadata": {},
   "source": [
    "# 5. Data Visualization\n",
    "\n",
    "## Data Visualization\n",
    "Visualize key data trends using graphs.\n"
   ]
  },
  {
   "cell_type": "code",
   "execution_count": null,
   "metadata": {},
   "outputs": [],
   "source": [
    "plt.figure(figsize=(10, 6))\n",
    "sns.heatmap(data.corr(), annot=True, fmt='.2f', cmap='coolwarm')\n",
    "plt.title(\"Correlation Heatmap\")\n",
    "plt.show()"
   ]
  },
  {
   "cell_type": "markdown",
   "metadata": {},
   "source": [
    "# 6. Build and Train the ML Model\n",
    "\n",
    "## Machine Learning Model\n",
    "- Split the dataset into training and testing sets.\n",
    "- Build a linear regression model using Scikit-learn."
   ]
  },
  {
   "cell_type": "code",
   "execution_count": null,
   "metadata": {},
   "outputs": [],
   "source": [
    "# Splitting the Dataset\n",
    "X = data[['feature1', 'feature2']]  # Replace with actual feature columns\n",
    "y = data['target']  # Replace with target column\n",
    "X_train, X_test, y_train, y_test = train_test_split(X, y, test_size=0.2, random_state=42)\n",
    "\n",
    "# Building the Linear Regression Model\n",
    "model = LinearRegression()\n",
    "model.fit(X_train, y_train)\n",
    "\n",
    "# Model Evaluation\n",
    "y_pred = model.predict(X_test)\n",
    "print(\"\\nModel Performance:\")\n",
    "print(\"Mean Squared Error (MSE):\", mean_squared_error(y_test, y_pred))\n",
    "print(\"R-squared (R²):\", r2_score(y_test, y_pred))"
   ]
  },
  {
   "cell_type": "markdown",
   "metadata": {},
   "source": [
    "# 7. Validation\n",
    "\n",
    "## Validation\n",
    "Validate the model using cross-validation or other methods.\n"
   ]
  },
  {
   "cell_type": "code",
   "execution_count": null,
   "metadata": {},
   "outputs": [],
   "source": []
  },
  {
   "cell_type": "markdown",
   "metadata": {},
   "source": [
    "# 8. Feature Engineering\n",
    "\n",
    "## Feature Engineering\n",
    "Consider adding polynomial features or other transformations.\n"
   ]
  },
  {
   "cell_type": "code",
   "execution_count": null,
   "metadata": {},
   "outputs": [],
   "source": []
  },
  {
   "cell_type": "markdown",
   "metadata": {},
   "source": [
    "# 9. Evaluation of the Model\n",
    "\n",
    "## Evaluation\n",
    "Discuss model results, potential improvements, and transferability."
   ]
  }
 ],
 "metadata": {
  "kernelspec": {
   "display_name": "dataSci",
   "language": "python",
   "name": "python3"
  },
  "language_info": {
   "codemirror_mode": {
    "name": "ipython",
    "version": 3
   },
   "file_extension": ".py",
   "mimetype": "text/x-python",
   "name": "python",
   "nbconvert_exporter": "python",
   "pygments_lexer": "ipython3",
   "version": "3.13.1"
  }
 },
 "nbformat": 4,
 "nbformat_minor": 2
}
